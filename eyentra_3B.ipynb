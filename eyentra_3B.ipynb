{
  "nbformat": 4,
  "nbformat_minor": 0,
  "metadata": {
    "colab": {
      "provenance": []
    },
    "kernelspec": {
      "name": "python3",
      "display_name": "Python 3"
    },
    "language_info": {
      "name": "python"
    }
  },
  "cells": [
    {
      "cell_type": "code",
      "source": [
        "import numpy as np"
      ],
      "metadata": {
        "id": "LKYxlwV4QENM"
      },
      "execution_count": null,
      "outputs": []
    },
    {
      "cell_type": "code",
      "execution_count": null,
      "metadata": {
        "colab": {
          "base_uri": "https://localhost:8080/"
        },
        "id": "xv5cjZfQLWjz",
        "outputId": "6f9ac258-9e25-422a-ee7e-721705705b68"
      },
      "outputs": [
        {
          "output_type": "execute_result",
          "data": {
            "text/plain": [
              "{10: [[7, 8], [5, 5]], 11: [[6, 5]], 12: [[5, 7], [2, 5, 5]]}"
            ]
          },
          "metadata": {},
          "execution_count": 3
        }
      ],
      "source": [
        "map_given = {10 : [[7,8],[5,5]] , 11 : [[6,5]] , 12 : [[5,7],[2,5,5]]}\n",
        "map_given"
      ]
    },
    {
      "cell_type": "code",
      "source": [
        "intial_values_hasTable = [0,0,0,0,0,0,0,0,0,0];\n",
        "for values in map_given:\n",
        "  temp = map_given[values]\n",
        "  for x in temp:\n",
        "    for y in x:\n",
        "      print(y)\n",
        "      intial_values_hasTable[y] = intial_values_hasTable[y] + 1\n",
        "intial_values_hasTable"
      ],
      "metadata": {
        "colab": {
          "base_uri": "https://localhost:8080/"
        },
        "id": "ZuUFLSDdMCYQ",
        "outputId": "38f06247-39f0-4800-c306-f163769a6a7c"
      },
      "execution_count": null,
      "outputs": [
        {
          "output_type": "stream",
          "name": "stdout",
          "text": [
            "7\n",
            "8\n",
            "5\n",
            "5\n",
            "6\n",
            "5\n",
            "5\n",
            "7\n",
            "2\n",
            "5\n",
            "5\n"
          ]
        },
        {
          "output_type": "execute_result",
          "data": {
            "text/plain": [
              "[0, 0, 1, 0, 0, 6, 1, 2, 1, 0]"
            ]
          },
          "metadata": {},
          "execution_count": 4
        }
      ]
    },
    {
      "cell_type": "code",
      "source": [
        "## to remove the duplicates from the map of list \n",
        "map_withOut_duplicates = {}\n",
        "for values in map_given:\n",
        "  temp = map_given[values]\n",
        "  temp_list = []\n",
        "  for x in temp:\n",
        "    temp_list.append(list(set(x)))\n",
        "  map_withOut_duplicates[values] = temp_list\n",
        "\n",
        "  # map_withOut_duplicates[values] = funtion_flatter_2d[temp]\n",
        "  # map_withOut_duplicates[values] = list(set(temp_list)\n",
        "map_withOut_duplicates  "
      ],
      "metadata": {
        "colab": {
          "base_uri": "https://localhost:8080/"
        },
        "id": "Ud7RJ5C4MV8e",
        "outputId": "30bb0e6d-fa9e-444a-af4b-4aeae6d5e966"
      },
      "execution_count": null,
      "outputs": [
        {
          "output_type": "execute_result",
          "data": {
            "text/plain": [
              "{10: [[8, 7], [5]], 11: [[5, 6]], 12: [[5, 7], [2, 5]]}"
            ]
          },
          "metadata": {},
          "execution_count": 5
        }
      ]
    },
    {
      "cell_type": "code",
      "source": [
        "array_of_digits =[5, 7, 5, 6, 8, 2]"
      ],
      "metadata": {
        "id": "IVdcJSyG3X-k"
      },
      "execution_count": null,
      "outputs": []
    },
    {
      "cell_type": "code",
      "source": [
        "map_mustHave = {}\n",
        "hash_table_dummy = [0,0,0,0,0,0,0,0,0,0]\n",
        "for x in array_of_digits:\n",
        "  hash_table_dummy[x] = hash_table_dummy[x] + 1\n",
        "for values in map_withOut_duplicates:\n",
        "  list_Va = map_withOut_duplicates[values]\n",
        "  no_of_subList = len(list_Va)\n",
        "  temp_flatten = flatten_list(list_Va)\n",
        "  temp_mustHave_list = []\n",
        "  for x in temp_flatten:\n",
        "    if find_Count_x(temp_flatten,x) == no_of_subList and hash_table_dummy[x] >  0:\n",
        "      temp_mustHave_list.append(x)\n",
        "      hash_table_dummy[x] = hash_table_dummy[x] - 1\n",
        "  print(hash_table_dummy)\n",
        "  map_mustHave[values] = temp_mustHave_list\n",
        "map_mustHave\n",
        "    \n",
        "\n",
        "    "
      ],
      "metadata": {
        "colab": {
          "base_uri": "https://localhost:8080/"
        },
        "id": "2W4Y5xq-PIiw",
        "outputId": "47a2baa0-2682-4c40-8e2c-f3e33174b7bd"
      },
      "execution_count": null,
      "outputs": [
        {
          "output_type": "stream",
          "name": "stdout",
          "text": [
            "[0, 0, 1, 0, 0, 2, 1, 1, 1, 0]\n",
            "[0, 0, 1, 0, 0, 1, 0, 1, 1, 0]\n",
            "[0, 0, 1, 0, 0, 0, 0, 1, 1, 0]\n"
          ]
        },
        {
          "output_type": "execute_result",
          "data": {
            "text/plain": [
              "{10: [], 11: [5, 6], 12: [5]}"
            ]
          },
          "metadata": {},
          "execution_count": 19
        }
      ]
    },
    {
      "cell_type": "code",
      "source": [
        "map_mustHave"
      ],
      "metadata": {
        "colab": {
          "base_uri": "https://localhost:8080/"
        },
        "id": "IGwpEK-U15Bl",
        "outputId": "24531ea5-1f4c-4630-9a2e-443393423335"
      },
      "execution_count": null,
      "outputs": [
        {
          "output_type": "execute_result",
          "data": {
            "text/plain": [
              "{10: [], 11: [5, 6], 12: [5]}"
            ]
          },
          "metadata": {},
          "execution_count": 20
        }
      ]
    },
    {
      "cell_type": "code",
      "source": [
        "map_final = {}\n",
        "for key in map_mustHave:\n",
        "  if map_mustHave[key] != []:\n",
        "    current_key = key\n",
        "    current_values = map_mustHave[key]\n",
        "    list_current_key = []\n",
        "    # print(current_values , current_key,map_given[key])\n",
        "    for x in map_given[current_key]:\n",
        "      temp_lst = equal_array(x,current_values)\n",
        "      if temp_lst != None:\n",
        "        list_current_key.append(temp_lst)\n",
        "    map_final[current_key] = list_current_key\n",
        "  else:\n",
        "    map_final[key] = [[]]\n",
        "\n",
        "hash_used_digites = [0,0,0,0,0,0,0,0,0,0]\n",
        "for x in array_of_digits:\n",
        "  hash_used_digites[x] = hash_used_digites[x] + 1\n",
        "print(hash_used_digites)\n",
        "for key in map_final:\n",
        "  for x in map_final[key]:\n",
        "    for y in x:\n",
        "      hash_used_digites[y] = hash_used_digites[y] - 1\n",
        "print(hash_used_digites)\n",
        "\n",
        "list_recursive_array_of_digits = []\n",
        "for x in range(10):\n",
        "  if hash_used_digites[x] == 1 :\n",
        "    list_recursive_array_of_digits.append(x)\n",
        "  else:\n",
        "    for _ in range(hash_used_digites[x]):\n",
        "      list_recursive_array_of_digits.append(x) \n",
        "print(list_recursive_array_of_digits)\n",
        "    \n",
        "map_final , hash_used_digites , list_recursive_array_of_digits"
      ],
      "metadata": {
        "colab": {
          "base_uri": "https://localhost:8080/"
        },
        "id": "FGmPlxlcUpft",
        "outputId": "adfd3bd4-9da7-4a10-e245-0ac86f3aa811"
      },
      "execution_count": null,
      "outputs": [
        {
          "output_type": "stream",
          "name": "stdout",
          "text": [
            "[0, 0, 1, 0, 0, 2, 1, 1, 1, 0]\n",
            "[0, 0, 1, 0, 0, 0, 0, 0, 1, 0]\n",
            "[2, 8]\n"
          ]
        },
        {
          "output_type": "execute_result",
          "data": {
            "text/plain": [
              "({10: [[]], 11: [[5, 6]], 12: [[5, 7]]},\n",
              " [0, 0, 1, 0, 0, 0, 0, 0, 1, 0],\n",
              " [2, 8])"
            ]
          },
          "metadata": {},
          "execution_count": 73
        }
      ]
    },
    {
      "cell_type": "code",
      "source": [
        "def sort(arr):\n",
        "  for i in range(0, len(arr)):    \n",
        "    for j in range(i+1, len(arr)):    \n",
        "        if(arr[i] > arr[j]):    \n",
        "            temp = arr[i];    \n",
        "            arr[i] = arr[j];    \n",
        "            arr[j] = temp;   \n",
        "  return arr"
      ],
      "metadata": {
        "id": "yElp3Ko96sTw"
      },
      "execution_count": null,
      "outputs": []
    },
    {
      "cell_type": "code",
      "source": [
        "def equal_array(list_1 , list_2):\n",
        "  #list 1 is the give list and list2 is must have list \n",
        "  list_1 = sort(list_1)\n",
        "  list_2 = sort(list_2)\n",
        "  for x1 in list_1:\n",
        "    if list_2.count(x1) == list_1.count(x1):\n",
        "      return list_1\n",
        "\n",
        "equal_array([5,7],[5])"
      ],
      "metadata": {
        "colab": {
          "base_uri": "https://localhost:8080/"
        },
        "id": "dy5FvT5Y2NTF",
        "outputId": "2734117a-0cd3-4e1b-af18-50d2ca276f3d"
      },
      "execution_count": null,
      "outputs": [
        {
          "output_type": "execute_result",
          "data": {
            "text/plain": [
              "[5, 7]"
            ]
          },
          "metadata": {},
          "execution_count": 45
        }
      ]
    },
    {
      "cell_type": "code",
      "source": [
        "def find_Count_x(list , x):\n",
        "  count = 0\n",
        "  for i in list:\n",
        "    if(x == i):\n",
        "      count = count + 1\n",
        "  return count\n",
        "find_Count_x([2,2,3,4,5,5,5],5)"
      ],
      "metadata": {
        "colab": {
          "base_uri": "https://localhost:8080/"
        },
        "id": "r7j7iZMgQjiW",
        "outputId": "bb799ff6-5aa6-45d3-d43e-85d9fde32cc1"
      },
      "execution_count": null,
      "outputs": [
        {
          "output_type": "execute_result",
          "data": {
            "text/plain": [
              "3"
            ]
          },
          "metadata": {},
          "execution_count": 8
        }
      ]
    },
    {
      "cell_type": "code",
      "source": [
        "def flatten_list(list_2d):\n",
        "  temp_flatten = []\n",
        "  for x in list_2d:\n",
        "    for y in x:\n",
        "      temp_flatten.append(y)\n",
        "  return temp_flatten\n",
        "flatten_list([[3,4,5],[4,5,6]])"
      ],
      "metadata": {
        "colab": {
          "base_uri": "https://localhost:8080/"
        },
        "id": "aVDaLxVvQtW3",
        "outputId": "c2b56366-d859-402b-ce2f-d445de52207e"
      },
      "execution_count": null,
      "outputs": [
        {
          "output_type": "execute_result",
          "data": {
            "text/plain": [
              "[3, 4, 5, 4, 5, 6]"
            ]
          },
          "metadata": {},
          "execution_count": 9
        }
      ]
    },
    {
      "cell_type": "code",
      "source": [
        "lst = [3, 4, 5, 4, 5, 6]\n",
        "lst.sort()"
      ],
      "metadata": {
        "colab": {
          "base_uri": "https://localhost:8080/"
        },
        "id": "iYFwIrlSUI9t",
        "outputId": "c5e5c530-9910-4e92-c0da-d0754be67903"
      },
      "execution_count": null,
      "outputs": [
        {
          "output_type": "stream",
          "name": "stdout",
          "text": [
            "None\n"
          ]
        }
      ]
    },
    {
      "cell_type": "code",
      "source": [],
      "metadata": {
        "id": "rkLqIdpf6cr8"
      },
      "execution_count": null,
      "outputs": []
    }
  ]
}